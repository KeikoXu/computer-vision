{
 "cells": [
  {
   "cell_type": "code",
   "execution_count": 1,
   "id": "4155f9ba-9fea-4fd9-8663-4cda85a89557",
   "metadata": {},
   "outputs": [
    {
     "name": "stdout",
     "output_type": "stream",
     "text": [
      "[[2.4597428e-03 1.0901788e-03 5.2920636e-03 9.3909198e-01 1.4594663e-02\n",
      "  2.4478946e-02 1.5391216e-03 8.4358430e-04 4.8550270e-03 5.7547889e-03]]\n",
      "3\n"
     ]
    }
   ],
   "source": [
    "import torch\n",
    "import cv2\n",
    "import torch.nn.functional as F\n",
    "from train import LeNet  ##重要，虽然显示灰色(即在次代码中没用到)，但若没有引入这个模型代码，加载模型时会找不到模型\n",
    "from torch.autograd import Variable\n",
    "from torchvision import datasets, transforms\n",
    "import numpy as np\n",
    " \n",
    "if __name__ =='__main__':\n",
    "    device = torch.device('cuda' if torch.cuda.is_available() else 'cpu')\n",
    "    model = torch.load('model.pth') #加载模型\n",
    "    model = model.to(device)\n",
    "    model.eval()    #把模型转为test模式\n",
    " \n",
    "    img = cv2.imread(\"test/3.png\")  #读取要预测的图片\n",
    "    trans = transforms.Compose(\n",
    "        [\n",
    "            transforms.ToTensor(),\n",
    "            transforms.Normalize((0.1307,), (0.3081,))\n",
    "        ])\n",
    " \n",
    "    img = cv2.cvtColor(img, cv2.COLOR_BGR2GRAY)#图片转为灰度图，因为mnist数据集都是灰度图\n",
    "    img = trans(img)\n",
    "    img = img.to(device)\n",
    "    img = img.unsqueeze(0)  #图片扩展多一维,因为输入到保存的模型中是4维的[batch_size,通道,长，宽]，而普通图片只有三维，[通道,长，宽]\n",
    "    #扩展后，为[1，1，28，28]\n",
    "    output = model(img)\n",
    "    prob = F.softmax(output, dim=1)\n",
    "    prob = Variable(prob)\n",
    "    prob = prob.cpu().numpy()  #用GPU的数据训练的模型保存的参数都是gpu形式的，要显示则先要转回cpu，再转回numpy模式\n",
    "    print(prob)  #prob是10个分类的概率\n",
    "    pred = np.argmax(prob) #选出概率最大的一个\n",
    "    print(pred.item())"
   ]
  },
  {
   "cell_type": "code",
   "execution_count": null,
   "id": "f8d620c8-d821-4fa6-9e98-87c1771ebfac",
   "metadata": {},
   "outputs": [],
   "source": []
  },
  {
   "cell_type": "code",
   "execution_count": null,
   "id": "bae29e65-148b-4b55-9d0d-12c609581ed3",
   "metadata": {},
   "outputs": [],
   "source": []
  }
 ],
 "metadata": {
  "kernelspec": {
   "display_name": "Python (torch)",
   "language": "python",
   "name": "pytorch"
  },
  "language_info": {
   "codemirror_mode": {
    "name": "ipython",
    "version": 3
   },
   "file_extension": ".py",
   "mimetype": "text/x-python",
   "name": "python",
   "nbconvert_exporter": "python",
   "pygments_lexer": "ipython3",
   "version": "3.11.7"
  }
 },
 "nbformat": 4,
 "nbformat_minor": 5
}
